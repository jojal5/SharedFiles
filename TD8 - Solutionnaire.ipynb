{
 "cells": [
  {
   "cell_type": "markdown",
   "metadata": {},
   "source": [
    "\n",
    "# MTH3302 : Méthodes probabilistes et statistiques pour l'I.A.\n",
    "\n",
    "Jonathan Jalbert<br/>\n",
    "Professeur adjoint au Département de mathématiques et de génie industriel<br/>\n",
    "Polytechnique Montréal<br/>\n",
    "\n",
    "Ce TD a été développé avec l'aide précieuse de :\n",
    "- Sanae Lofti, candidate à la maîtrise,\n",
    "- Amine Bellahsen, candidat à la maîtrise.<br/>\n",
    "\n",
    "Tous les deux étaient inscrits au cours à l'automne 2018.\n",
    "\n",
    "---\n",
    "\n",
    "\n",
    "# TD 8 : Filtre anti-spam \n",
    "___\n",
    "\n",
    "### Description\n",
    "\n",
    "Dans ce travail dirigé, vous aurez l'occasion de développer un filtre anti-spam basé sur la classification bayésienne naïve. Que la présence ou l'absence de certains mots sera considérée comme variable explicative.\n",
    "\n",
    "### Données\n",
    "\n",
    "Les données exploitées dans ce TD correspondents à des messages électroniques authentiques d'un employé de la compagnie Enron. Vous pouvez télécharger le jeux de données à partir du site web du cours. Le fichier doit être décompressé dans un dossier nommé *data* du répertoire courant de votre calepin Jupyter. \n",
    "\n",
    "Notez que les messages électroniques de 158 employés de la compagnie Enron ont été récupérés par la Federal Energy Regulatory Commission pendant la commission d'enquête qui a eu lieu après l'effondrement de la compagnie. Dans ce TD, nous n'utilisons que les messages d'un seul employé. Vous pouvez récupérer le jeu de données entier à l'adresse suivante https://www.cs.cmu.edu/~./enron/enron_mail_20150507.tar.gz.\n",
    "\n",
    "\n",
    "\n",
    "### Sommaire:\n",
    "___\n",
    "\n",
    "\n",
    "[Préliminaires](#unit0)  \n",
    "[Exercice 1](#unit1)  \n",
    "[Exercice 2](#unit2)  \n",
    "[Exercice 3](#unit3)  \n"
   ]
  },
  {
   "cell_type": "code",
   "execution_count": 1,
   "metadata": {},
   "outputs": [],
   "source": [
    "using StatsBase, Statistics, DataFrames"
   ]
  },
  {
   "cell_type": "markdown",
   "metadata": {},
   "source": [
    "# Préliminaires  <a id = \"unit0\" > </a > \n",
    "\n",
    "\n",
    "Les codes de cette section permettent de traiter les fichiers textes correspondant aux messages électroniques avant de pouvoir répondre aux questions."
   ]
  },
  {
   "cell_type": "markdown",
   "metadata": {},
   "source": [
    "### Construction des ensembles d'entraînement et de test\n",
    "\n",
    "Les messages électroniques de l'utilisateur nommé *Enron1* sont répartis dans un dossier *ham* et un dossier *spam*. La cellule de code permet d'extraire aléatoirement des courriels et des pourriels pour l'ensemble d'entraînement. On prend le $2/3$ des messages pour constituer l'échantillon d'entraînement.\n",
    "\n",
    "Le dictionnaire ``TrainSet`` contient deux champs :\n",
    "- *:Ham* qui contient la liste des fichiers textes correspondants aux courriels de l'ensemble d'entraînement. \n",
    "- *:Spam* qui contient la liste des fichiers textes correspondants aux pourriels de l'ensemble d'entraînement.\n",
    "\n",
    "Le dictionnaire ``TestSet`` contient les mêmes deux champs mais pour l'ensemble de test."
   ]
  },
  {
   "cell_type": "code",
   "execution_count": 2,
   "metadata": {},
   "outputs": [
    {
     "data": {
      "text/plain": [
       "Dict{Symbol,Array{String,1}} with 2 entries:\n",
       "  :Ham  => [\"data/enron1/ham/0003.1999-12-14.farmer.ham.txt\", \"data/enron1/ham/…\n",
       "  :Spam => [\"data/enron1/spam/0017.2003-12-18.GP.spam.txt\", \"data/enron1/spam/0…"
      ]
     },
     "execution_count": 2,
     "metadata": {},
     "output_type": "execute_result"
    }
   ],
   "source": [
    "# Récupération des noms de fichier de tous les hams\n",
    "filesdir = \"data/enron1/ham/\"\n",
    "filename_ham = filesdir.*readdir(filesdir)\n",
    "\n",
    "# Récupération des noms de fichier de tous les spams\n",
    "filesdir = \"data/enron1/spam/\"\n",
    "filename_spam = filesdir.*readdir(filesdir)\n",
    "\n",
    "# nombre de fichiers pour contruire l'ensemble d'entraînement des hams\n",
    "n = Int(round(2/3*length(filename_ham)))\n",
    "\n",
    "# sélection aléatoire des fichiers de l'ensemble d'entraînement\n",
    "ham_train = Array{String}(undef,n)\n",
    "sample!(filename_ham, ham_train, replace=false, ordered=false)\n",
    "ham_test = setdiff(filename_ham, ham_train)\n",
    "\n",
    "\n",
    "# nombre de fichiers pour contruire l'ensemble d'entraînement des spams\n",
    "n = Int(round(2/3*length(filename_spam)))\n",
    "\n",
    "# sélection aléatoire des fichiers de l'ensemble d'entraînement\n",
    "spam_train = Array{String}(undef,n)\n",
    "sample!(filename_spam, spam_train, replace=false, ordered=false)\n",
    "spam_test = setdiff(filename_spam, spam_train)\n",
    "\n",
    "\n",
    "# Sauvegarder les ensembles d'entraînement et de test dans des dictionnaires\n",
    "TrainSet = Dict( :Ham => ham_train, :Spam => spam_train)\n",
    "TestSet = Dict( :Ham => ham_test, :Spam => spam_test)\n"
   ]
  },
  {
   "cell_type": "markdown",
   "metadata": {},
   "source": [
    "## Dénombrement des mots contenus dans les courriels\n",
    "\n",
    "Cette cellule permet de dénombrer le nombre de courriels où chaque mot est présent. Le dictionnaire ``ham_wordcounts`` indique le nombre de courriels dans lesquels cahque mot apparaît.\n",
    "\n",
    "La fonction *wordlisting* prend en entrée le chemin d'accès d'un fichier texte et sort la liste de mots présents du fichier. Si un mot apparaît plus d'une fois dans le fichier, la fonction ne sort que la présence de ce mot, pas la quantité de fois où il apparaît.\n",
    "\n",
    "La fonction *wordcounting* prend en entrée une matrice de liste de mots. La fonction dénombre le nombre de lignes où le mot apparaît."
   ]
  },
  {
   "cell_type": "code",
   "execution_count": 3,
   "metadata": {},
   "outputs": [
    {
     "data": {
      "text/plain": [
       "wordcounting (generic function with 1 method)"
      ]
     },
     "execution_count": 3,
     "metadata": {},
     "output_type": "execute_result"
    }
   ],
   "source": [
    "\"\"\"\n",
    "wordlisting : Cette fonction transforme un fichier texte en une liste de mots. Le nombre de fois que\n",
    "              les mots apparaîssent ne sont pas répertorié.\n",
    "Input: filename::String le chemin du fichier texte \n",
    "Output: Array{Sting} Liste des mots contenus dans le fichier texte\n",
    "\"\"\"\n",
    "\n",
    "function wordlisting(filename::String)\n",
    "    \n",
    "    f = read(filename, String)\n",
    "    text = replace(f, r\"[0123456789]\" => \"\")\n",
    "    words = split(text, r\"\\W+\")\n",
    "    filter!(x -> length(x) > 1, words)\n",
    "    wordlist = unique(words)\n",
    "    \n",
    "end\n",
    "\n",
    "\"\"\"\n",
    "wordcounting : À partir d'un Array of Array contenant la liste des mots d'un ensemble de fichiers texte, la fonction \n",
    "               retourne le nombre de fois où chaque mot est présent.\n",
    "Input: Un array correspondant à la liste des mots pour chacun des fichiers texte \n",
    "Output: Dictionnaire compilant le nombre de ligne dans lesquelles chacun des mots apparaît.\n",
    "\"\"\"\n",
    "\n",
    "function wordcounting(A::Array{Array{SubString{String},1},1})\n",
    "   \n",
    "    words = vcat(A...)\n",
    "\n",
    "    wordcounts = Dict{String,Int64}()\n",
    "\n",
    "    for word in words\n",
    "        wordcounts[word]=get(wordcounts, word, 0) + 1\n",
    "    end\n",
    "    \n",
    "    return wordcounts\n",
    "    \n",
    "end"
   ]
  },
  {
   "cell_type": "code",
   "execution_count": 4,
   "metadata": {},
   "outputs": [
    {
     "data": {
      "text/plain": [
       "Dict{String,Int64} with 13861 entries:\n",
       "  \"improvemnts\" => 1\n",
       "  \"henry\"       => 4\n",
       "  \"cuss\"        => 1\n",
       "  \"hampshire\"   => 3\n",
       "  \"tnpc\"        => 1\n",
       "  \"rhonda\"      => 9\n",
       "  \"msnbc\"       => 1\n",
       "  \"gathered\"    => 7\n",
       "  \"bretta\"      => 1\n",
       "  \"acton\"       => 65\n",
       "  \"underground\" => 1\n",
       "  \"budgeted\"    => 1\n",
       "  \"november\"    => 103\n",
       "  \"backup\"      => 6\n",
       "  \"stress\"      => 4\n",
       "  \"caught\"      => 1\n",
       "  \"undernom\"    => 1\n",
       "  \"rectified\"   => 1\n",
       "  \"premature\"   => 1\n",
       "  \"fountain\"    => 1\n",
       "  \"hicks\"       => 1\n",
       "  \"package\"     => 22\n",
       "  \"qnec\"        => 1\n",
       "  \"gay\"         => 18\n",
       "  \"replacement\" => 6\n",
       "  ⋮             => ⋮"
      ]
     },
     "execution_count": 4,
     "metadata": {},
     "output_type": "execute_result"
    }
   ],
   "source": [
    "ham_wordlist = wordlisting.(TrainSet[:Ham])\n",
    "ham_wordcounts = wordcounting(ham_wordlist)"
   ]
  },
  {
   "cell_type": "markdown",
   "metadata": {},
   "source": [
    "## Dénombrement des mots contenus dans les pourriels\n",
    "\n",
    "Cette cellule permet de dénombrer le nombre de courriels où chaque mot est présent. Le dictionnaire ``spam_wordcounts`` indique le nombre de courriels dans lesquels cahque mot apparaît.\n",
    "\n",
    "Les fonctions *wordlisting* et *wordcounting* sont utilisées."
   ]
  },
  {
   "cell_type": "code",
   "execution_count": 5,
   "metadata": {},
   "outputs": [
    {
     "data": {
      "text/plain": [
       "Dict{String,Int64} with 28851 entries:\n",
       "  \"upsurge\"        => 1\n",
       "  \"vvmiaml\"        => 1\n",
       "  \"null\"           => 2\n",
       "  \"grp\"            => 2\n",
       "  \"ucewn\"          => 1\n",
       "  \"inattentive\"    => 1\n",
       "  \"duma\"           => 1\n",
       "  \"bumbum\"         => 1\n",
       "  \"henry\"          => 1\n",
       "  \"cvfwyks\"        => 1\n",
       "  \"mycology\"       => 1\n",
       "  \"partl\"          => 2\n",
       "  \"aslpp\"          => 1\n",
       "  \"anaerobic\"      => 1\n",
       "  \"youlaagan\"      => 1\n",
       "  \"jemimajones\"    => 1\n",
       "  \"corrodible\"     => 1\n",
       "  \"hampshire\"      => 1\n",
       "  \"brandt\"         => 2\n",
       "  \"maggotadvances\" => 1\n",
       "  \"whiz\"           => 1\n",
       "  \"vrmtk\"          => 1\n",
       "  \"il\"             => 9\n",
       "  \"neumann\"        => 1\n",
       "  \"soapstone\"      => 1\n",
       "  ⋮                => ⋮"
      ]
     },
     "execution_count": 5,
     "metadata": {},
     "output_type": "execute_result"
    }
   ],
   "source": [
    "spam_wordlist = wordlisting.(TrainSet[:Spam])\n",
    "spam_wordcounts = wordcounting(spam_wordlist)"
   ]
  },
  {
   "cell_type": "markdown",
   "metadata": {},
   "source": [
    "# Exercice 1 <a id = \"unit1\" > </a > \n",
    "\n",
    "Considérez le mot ***http*** comme variable explicative pour classer les messages électroniques en courriels et pourriels."
   ]
  },
  {
   "cell_type": "markdown",
   "metadata": {},
   "source": [
    "### a) Si un message contient le mot ***http***, quelle est la probabilité que ce message soit un pourriel ?"
   ]
  },
  {
   "cell_type": "code",
   "execution_count": 6,
   "metadata": {},
   "outputs": [
    {
     "name": "stdout",
     "output_type": "stream",
     "text": [
      "Si le mot http est présent dans le message, il y a une prob de 0.7999055423576151 que ce soit un spam.\n"
     ]
    }
   ],
   "source": [
    "# nombre de courriels dans l'ensemble d'entraînement\n",
    "n₀ = length(TrainSet[:Ham])\n",
    "\n",
    "# nombre de pourriels dans l'ensemble d'entraînement\n",
    "n₁ = length(TrainSet[:Spam])\n",
    "\n",
    "# nombre de messages de l'ensemble d'entraînement\n",
    "n = n₀ + n₁\n",
    "\n",
    "# nombre de courriels où le mot http apparaît\n",
    "n₀₁ = ham_wordcounts[\"http\"]\n",
    "\n",
    "# nombre de pourriels où le mot http apparaît\n",
    "n₁₁ = spam_wordcounts[\"http\"]\n",
    "\n",
    "q_spam = (n₁+1)/(n+2) * (n₁₁+1)/(n₁+2)\n",
    "q_ham = (n₀+1)/(n+2) * (n₀₁+1)/(n₀+2)\n",
    "\n",
    "# constante de normalisation\n",
    "c = q_spam + q_ham\n",
    "\n",
    "p_spam = q_spam/c\n",
    "\n",
    "println(\"Si le mot http est présent dans le message, il y a une prob de $p_spam que ce soit un spam.\")"
   ]
  },
  {
   "cell_type": "markdown",
   "metadata": {},
   "source": [
    "### b) Si un message ne contient pas le mot ***http***, quelle est la probabilité que ce message soit un pourriel ?"
   ]
  },
  {
   "cell_type": "code",
   "execution_count": 7,
   "metadata": {},
   "outputs": [
    {
     "name": "stdout",
     "output_type": "stream",
     "text": [
      "Si le mot http est présent dans le message, il y a une prob de 0.2205109731260497 que ce soit un spam.\n"
     ]
    }
   ],
   "source": [
    "q_spam = (n₁+1)/(n+2) * (n₁-n₁₁+1)/(n₁+2)\n",
    "q_ham = (n₀+1)/(n+2) * (n₀-n₀₁+1)/(n₀+2)\n",
    "\n",
    "# constante de normalisation\n",
    "c = q_spam + q_ham\n",
    "\n",
    "p_spam = q_spam/c\n",
    "\n",
    "println(\"Si le mot http est présent dans le message, il y a une prob de $p_spam que ce soit un spam.\")"
   ]
  },
  {
   "cell_type": "markdown",
   "metadata": {},
   "source": [
    "### c) Filtrez tous les courriels de l'échantillon de test. Quelle est la proportion de courriels classés comme pourriels?"
   ]
  },
  {
   "cell_type": "code",
   "execution_count": 8,
   "metadata": {},
   "outputs": [
    {
     "name": "stdout",
     "output_type": "stream",
     "text": [
      "Sur les 1224 hams de l'ensemble de test,\n",
      "- on en classe 1171 comme ham\n",
      "- on en classe 53 comme spam.\n"
     ]
    }
   ],
   "source": [
    "fauxPositifs = Bool[]\n",
    "\n",
    "for filename in TestSet[:Ham]\n",
    "      \n",
    "    wordlist = wordlisting(filename)\n",
    "    x̃ = any(wordlist .== \"http\")\n",
    "    \n",
    "    if x̃\n",
    "        push!(fauxPositifs, true)\n",
    "    else\n",
    "        push!(fauxPositifs, false)\n",
    "    end\n",
    " \n",
    "end\n",
    "\n",
    "println(\"Sur les $(length(TestSet[:Ham])) hams de l'ensemble de test,\")\n",
    "println(\"- on en classe $(count(.!fauxPositifs)) comme ham\")\n",
    "println(\"- on en classe $(count(fauxPositifs)) comme spam.\")\n"
   ]
  },
  {
   "cell_type": "markdown",
   "metadata": {},
   "source": [
    "### d) Filtrez tous les pourriels de l'échantillon de test. Quelle est la proportion de pourriels classés comme pourriels?"
   ]
  },
  {
   "cell_type": "code",
   "execution_count": 9,
   "metadata": {},
   "outputs": [
    {
     "name": "stdout",
     "output_type": "stream",
     "text": [
      "Sur les 500 spams de l'ensemble de test,\n",
      "- on en classe 356 comme ham\n",
      "- on en classe 144 comme spam.\n"
     ]
    }
   ],
   "source": [
    "vraisPositifs = Bool[]\n",
    "\n",
    "for filename in TestSet[:Spam]\n",
    "   \n",
    "    wordlist = wordlisting(filename)\n",
    "    x̃ = any(wordlist .== \"http\")\n",
    "\n",
    "    if x̃\n",
    "        push!(vraisPositifs, true)\n",
    "    else\n",
    "        push!(vraisPositifs, false)\n",
    "    end\n",
    "    \n",
    "end\n",
    "\n",
    "println(\"Sur les $(length(TestSet[:Spam])) spams de l'ensemble de test,\")\n",
    "println(\"- on en classe $(count(.!vraisPositifs)) comme ham\")\n",
    "println(\"- on en classe $(count(vraisPositifs)) comme spam.\")"
   ]
  },
  {
   "cell_type": "markdown",
   "metadata": {},
   "source": [
    "# Exercice 2 <a id = \"unit2\" > </a > \n",
    "\n",
    "Considérez les mots ***http*** et ***enron*** comme variables explicatives pour classer les messages électroniques en courriels et pourriels."
   ]
  },
  {
   "cell_type": "markdown",
   "metadata": {},
   "source": [
    "### a) Si un message contient les mots ***http*** et ***enron***, quelle est la probabilité que ce message soit un pourriel ?"
   ]
  },
  {
   "cell_type": "code",
   "execution_count": 10,
   "metadata": {},
   "outputs": [
    {
     "name": "stdout",
     "output_type": "stream",
     "text": [
      "Si les mots http et enron sont présents dans le message,\n",
      "il y a une prob de 0.009796468260453528 que ce soit un spam.\n"
     ]
    }
   ],
   "source": [
    "# nombre de courriels où le mot enron apparaît\n",
    "n₀₂ = ham_wordcounts[\"enron\"]\n",
    "\n",
    "# nombre de pourriels où le mot enron apparaît\n",
    "if haskey(spam_wordcounts, \"enron\")\n",
    "    n₁₂ = spam_wordcounts[\"enron\"]\n",
    "else\n",
    "    n₁₂ = 0\n",
    "end\n",
    "\n",
    "q_spam = (n₁+1)/(n+2) * (n₁₁+1)/(n₁+2) * (n₁₂+1)/(n₁+2)\n",
    "q_ham = (n₀+1)/(n+2) * (n₀₁+1)/(n₀+2) * (n₀₂+1)/(n₀+2)\n",
    "\n",
    "p_spam = q_spam/(q_spam+q_ham)\n",
    "\n",
    "println(\"Si les mots http et enron sont présents dans le message,\")\n",
    "println(\"il y a une prob de $p_spam que ce soit un spam.\")"
   ]
  },
  {
   "cell_type": "markdown",
   "metadata": {},
   "source": [
    "### b) Si un message ne contient pas les mots ***http*** et ***enron***, quelle est la probabilité que ce message soit un pourriel ?"
   ]
  },
  {
   "cell_type": "code",
   "execution_count": 11,
   "metadata": {},
   "outputs": [
    {
     "name": "stdout",
     "output_type": "stream",
     "text": [
      "Si les mots http et enron sont absents dans le message,\n",
      "il y a une prob de 0.3213865666050161 que ce soit un spam.\n"
     ]
    }
   ],
   "source": [
    "q_spam = (n₁+1)/(n+2) * (n₁-n₁₁+1)/(n₁+2) * (n₁-n₁₂+1)/(n₁+2)\n",
    "q_ham = (n₀+1)/(n+2) * (n₀-n₀₁+1)/(n₀+2) * (n₀-n₀₂+1)/(n₀+2)\n",
    "\n",
    "p_spam = q_spam/(q_spam+q_ham)\n",
    "\n",
    "println(\"Si les mots http et enron sont absents dans le message,\")\n",
    "println(\"il y a une prob de $p_spam que ce soit un spam.\")"
   ]
  },
  {
   "cell_type": "markdown",
   "metadata": {},
   "source": [
    "### c) Si un message contient le mot ***http*** mais ne contient pas le mot ***enron***, quelle est la probabilité que ce message soit un pourriel ?"
   ]
  },
  {
   "cell_type": "code",
   "execution_count": 12,
   "metadata": {},
   "outputs": [
    {
     "name": "stdout",
     "output_type": "stream",
     "text": [
      "Si le mot http est présent mais le mot enron est absent dans le message,\n",
      "il y a une prob de 0.8700033369884936 que ce soit un spam.\n"
     ]
    }
   ],
   "source": [
    "q_spam = (n₁+1)/(n+2) * (n₁₁+1)/(n₁+2) * (n₁-n₁₂+1)/(n₁+2)\n",
    "q_ham = (n₀+1)/(n+2) * (n₀₁+1)/(n₀+2) * (n₀-n₀₂+1)/(n₀+2)\n",
    "\n",
    "p_spam = q_spam/(q_spam+q_ham)\n",
    "\n",
    "println(\"Si le mot http est présent mais le mot enron est absent dans le message,\")\n",
    "println(\"il y a une prob de $p_spam que ce soit un spam.\")"
   ]
  },
  {
   "cell_type": "markdown",
   "metadata": {},
   "source": [
    "### d) Si un message ne contient pas le mot ***http*** mais contient le mot ***enron***, quelle est la probabilité que ce message soit un pourriel ?"
   ]
  },
  {
   "cell_type": "code",
   "execution_count": 13,
   "metadata": {},
   "outputs": [
    {
     "name": "stdout",
     "output_type": "stream",
     "text": [
      "Si le mot http est absent et le mot enron est présent dans le message,\n",
      "il y a une prob de 0.0006996126828610966 que ce soit un spam.\n"
     ]
    }
   ],
   "source": [
    "q_spam = (n₁+1)/(n+2) * (n₁-n₁₁+1)/(n₁+2) * (n₁₂+1)/(n₁+2)\n",
    "q_ham = (n₀+1)/(n+2) * (n₀-n₀₁+1)/(n₀+2) * (n₀₂+1)/(n₀+2)\n",
    "\n",
    "p_spam = q_spam/(q_spam+q_ham)\n",
    "\n",
    "println(\"Si le mot http est absent et le mot enron est présent dans le message,\")\n",
    "println(\"il y a une prob de $p_spam que ce soit un spam.\")"
   ]
  },
  {
   "cell_type": "markdown",
   "metadata": {},
   "source": [
    "### e) Filtrez tous les courriels de l'échantillon de test. Quelle est la proportion de courriels classés comme pourriels ?"
   ]
  },
  {
   "cell_type": "code",
   "execution_count": 14,
   "metadata": {},
   "outputs": [
    {
     "name": "stdout",
     "output_type": "stream",
     "text": [
      "Sur les 1224 hams de l'ensemble de test,\n",
      "- on en classe 1195 comme ham\n",
      "- on en classe 29 comme spam.\n"
     ]
    }
   ],
   "source": [
    "fauxPositifs = Bool[]\n",
    "\n",
    "for filename in TestSet[:Ham]\n",
    "      \n",
    "    wordlist = wordlisting(filename)\n",
    "    x̃₁ = any(wordlist .== \"http\")\n",
    "    x̃₂ = any(wordlist .== \"enron\")\n",
    "    \n",
    "    if x̃₁ && !x̃₂\n",
    "        push!(fauxPositifs, true)\n",
    "    else\n",
    "        push!(fauxPositifs, false)\n",
    "    end\n",
    " \n",
    "end\n",
    "\n",
    "println(\"Sur les $(length(TestSet[:Ham])) hams de l'ensemble de test,\")\n",
    "println(\"- on en classe $(count(.!fauxPositifs)) comme ham\")\n",
    "println(\"- on en classe $(count(fauxPositifs)) comme spam.\")\n"
   ]
  },
  {
   "cell_type": "markdown",
   "metadata": {},
   "source": [
    "### f) Filtrez tous les pourriels de l'échantillon de test. Quelle est la proportion de pourriels classés comme pourriels ?"
   ]
  },
  {
   "cell_type": "code",
   "execution_count": 15,
   "metadata": {},
   "outputs": [
    {
     "name": "stdout",
     "output_type": "stream",
     "text": [
      "Sur les 500 spams de l'ensemble de test,\n",
      "- on en classe 356 comme ham\n",
      "- on en classe 144 comme spam.\n"
     ]
    }
   ],
   "source": [
    "vraisPositifs = Bool[]\n",
    "\n",
    "for filename in TestSet[:Spam]\n",
    "      \n",
    "    wordlist = wordlisting(filename)\n",
    "    x̃₁ = any(wordlist .== \"http\")\n",
    "    x̃₂ = any(wordlist .== \"enron\")\n",
    "    \n",
    "    if x̃₁ && !x̃₂\n",
    "        push!(vraisPositifs, true)\n",
    "    else\n",
    "        push!(vraisPositifs, false)\n",
    "    end\n",
    " \n",
    "end\n",
    "\n",
    "println(\"Sur les $(length(TestSet[:Spam])) spams de l'ensemble de test,\")\n",
    "println(\"- on en classe $(count(.!vraisPositifs)) comme ham\")\n",
    "println(\"- on en classe $(count(vraisPositifs)) comme spam.\")\n"
   ]
  },
  {
   "cell_type": "markdown",
   "metadata": {},
   "source": [
    "# Exercice 3 <a id = \"unit3\" > </a > \n",
    "\n",
    "Pour cet exercice, nous utiliserons les mots les plus discriminant pour filtrer les messages. Pour identifier les mots les plus discriminants, l'information conjointe entre les mots et le classement est utilisée. L'information conjointe est une notion que nous verrons dans le dernier chapitre du cours concernant la théorie de l'information.\n",
    "\n",
    "\n",
    "L'exécution de la première cellule de code de cette section vous donnera la variable ``discr_words``. Le premier mot de cette liste de mot correspond au mot le plus discriminant pour classer les messages en courriels et pourriels. Le deuxième mot de la liste est le second mot le plus discriminant et ainsi de suite."
   ]
  },
  {
   "cell_type": "code",
   "execution_count": 16,
   "metadata": {},
   "outputs": [
    {
     "data": {
      "text/plain": [
       "36513-element Array{SubString{String},1}:\n",
       " \"enron\"     \n",
       " \"cc\"        \n",
       " \"hpl\"       \n",
       " \"http\"      \n",
       " \"daren\"     \n",
       " \"gas\"       \n",
       " \"forwarded\" \n",
       " \"pm\"        \n",
       " \"hou\"       \n",
       " \"ect\"       \n",
       " \"thanks\"    \n",
       " \"meter\"     \n",
       " \"subject\"   \n",
       " ⋮           \n",
       " \"timothy\"   \n",
       " \"darrin\"    \n",
       " \"activate\"  \n",
       " \"prizes\"    \n",
       " \"started\"   \n",
       " \"rest\"      \n",
       " \"having\"    \n",
       " \"okay\"      \n",
       " \"class\"     \n",
       " \"operations\"\n",
       " \"confirm\"   \n",
       " \"behalf\"    "
      ]
     },
     "execution_count": 16,
     "metadata": {},
     "output_type": "execute_result"
    }
   ],
   "source": [
    "\n",
    "struct BagOfWords\n",
    "    n₀::Int               # Nombre de courriels de l'ensemble d\"entraînement\n",
    "    n₁::Int               # Nombre de pourriels de l'ensemble d\"entraînement \n",
    "    ham_wordlist::Dict    # Occurrence des mots dans les hams\n",
    "    spam_wordlist::Dict # Occurrence des mots dans les spams\n",
    "end\n",
    "\n",
    "function wordoccurrences(word::T,B::BagOfWords) where T<:AbstractString\n",
    "    \n",
    "    ham_wordcounts = B.ham_wordlist\n",
    "    spam_wordcounts = B.spam_wordlist\n",
    "\n",
    "    if haskey(ham_wordcounts, word)\n",
    "        n10 = ham_wordcounts[word]\n",
    "    else\n",
    "        n10 = 0\n",
    "    end\n",
    "\n",
    "    if haskey(spam_wordcounts, word)\n",
    "        n11 = spam_wordcounts[word]\n",
    "    else\n",
    "        n11 = 0\n",
    "    end\n",
    "    \n",
    "    n = [n10, n11]\n",
    "    \n",
    "    return n\n",
    "    \n",
    "end\n",
    "\n",
    "function mutualInformation(word::T,B::BagOfWords) where T<:AbstractString\n",
    "   \n",
    "    α = B.n₁ / (B.n₀ + B.n₁)\n",
    "    \n",
    "    n = wordoccurrences(word,B)\n",
    "    \n",
    "    θ₀₁ = (n[1]+1) / (B.n₀+2)\n",
    "    θ₁₁ = (n[2]+1) / (B.n₁+2)\n",
    "    \n",
    "    θ₁ = (1-α)*θ₀₁ + α*θ₁₁ \n",
    "    \n",
    "    I_mat = [ (1-α)*(1-θ₀₁)*log( (1-θ₀₁)/(1-θ₁) ), (1-α)*θ₀₁*log( θ₀₁/θ₁ ),\n",
    "        α*(1-θ₁₁)*log( (1-θ₁₁)/(1-θ₁) ), α*θ₁₁*log( θ₁₁/θ₁ )  ]\n",
    "    \n",
    "    I = sum(I_mat)\n",
    "    \n",
    "    return I\n",
    "    \n",
    "end\n",
    "\n",
    "\n",
    "wordBag = BagOfWords(length(TrainSet[:Ham]),length(TrainSet[:Spam]),ham_wordcounts,spam_wordcounts)\n",
    "\n",
    "filenames = vcat(TrainSet[:Ham],TrainSet[:Spam])\n",
    "\n",
    "wordlist = wordlisting.(filenames)\n",
    "\n",
    "words = unique(vcat(wordlist...))\n",
    "\n",
    "I = Float64[]\n",
    "\n",
    "for word in words\n",
    "   push!(I, mutualInformation(word,wordBag)) \n",
    "end\n",
    "\n",
    "indperm = sortperm(I,rev=true)\n",
    "\n",
    "discr_words = words[indperm]"
   ]
  },
  {
   "cell_type": "markdown",
   "metadata": {},
   "source": [
    "## a) En prenant les 10 mots les plus discriminant, quelle est la proportion de courriels de l'ensemble de test qui sont classés comme pourriels ?"
   ]
  },
  {
   "cell_type": "code",
   "execution_count": 17,
   "metadata": {},
   "outputs": [
    {
     "data": {
      "text/plain": [
       "emailfiltering (generic function with 1 method)"
      ]
     },
     "execution_count": 17,
     "metadata": {},
     "output_type": "execute_result"
    }
   ],
   "source": [
    "\n",
    "function wordspamliness(word::T,occurs::Bool,B::BagOfWords) where T<:AbstractString\n",
    "   \n",
    "    n0 = B.n₀\n",
    "    n1 = B.n₁\n",
    "    n = n0 + n1\n",
    "    \n",
    "    ham_wordcounts = B.ham_wordlist\n",
    "    spam_wordcounts = B.spam_wordlist\n",
    "\n",
    "    if haskey(ham_wordcounts, word)\n",
    "        n10 = ham_wordcounts[word]\n",
    "    else\n",
    "        n10 = 0\n",
    "    end\n",
    "\n",
    "    if haskey(spam_wordcounts, word)\n",
    "        n11 = spam_wordcounts[word]\n",
    "    else\n",
    "        n11 = 0\n",
    "    end\n",
    "    \n",
    "    q = Array{Float64}(undef,2)\n",
    "    \n",
    "    if occurs\n",
    "        q[1] = log(n10+1)-log(n0+2)\n",
    "        q[2] = log(n11+1)-log(n1+2)\n",
    "    else\n",
    "        q[1] = log(n0-n10+1)-log(n0+2)\n",
    "        q[2] = log(n1-n11+1)-log(n1+2)\n",
    "    end\n",
    "\n",
    "    return q\n",
    "    \n",
    "end\n",
    "\n",
    "\n",
    "\n",
    "function emailfiltering(filename::String,words::Array{T},B::BagOfWords) where T<:AbstractString\n",
    "   \n",
    "    n0 = B.n₀\n",
    "    n1 = B.n₁\n",
    "    n = n0 + n1\n",
    "    \n",
    "    wordlist = wordlisting(filename)\n",
    "    \n",
    "    p = [log(n0+1)-log(n+2), log(n1+1)-log(n+2)]\n",
    "    \n",
    "    for word in words\n",
    "    \n",
    "        x̃ = any(wordlist .== word)\n",
    "\n",
    "        p = p + wordspamliness(word,x̃,B)\n",
    "       \n",
    "    end\n",
    "    \n",
    "    _, ind = findmax(p)\n",
    "    \n",
    "    if ind==1\n",
    "        spam = false\n",
    "    else\n",
    "        spam = true\n",
    "    end\n",
    "    \n",
    "    return spam\n",
    "    \n",
    "end\n",
    "\n"
   ]
  },
  {
   "cell_type": "code",
   "execution_count": 18,
   "metadata": {},
   "outputs": [
    {
     "name": "stdout",
     "output_type": "stream",
     "text": [
      "Sur les 1224 hams de l'ensemble de test,\n",
      "- on en classe 925 comme ham\n",
      "- on en classe 299 comme spam.\n"
     ]
    }
   ],
   "source": [
    "filenames = TestSet[:Ham]\n",
    "fauxPositifs = [emailfiltering(filenames[i],discr_words[1:10],wordBag) for i=1:length(filenames)]\n",
    "println(\"Sur les $(length(filenames)) hams de l'ensemble de test,\")\n",
    "println(\"- on en classe $(count(.!fauxPositifs)) comme ham\")\n",
    "println(\"- on en classe $(count(fauxPositifs)) comme spam.\")"
   ]
  },
  {
   "cell_type": "markdown",
   "metadata": {},
   "source": [
    "## b) En prenant les 10 mots les plus discriminant, quelle est la proportion de pourriels de l'ensemble de test qui sont classés comme pourriels ?"
   ]
  },
  {
   "cell_type": "code",
   "execution_count": 19,
   "metadata": {},
   "outputs": [
    {
     "name": "stdout",
     "output_type": "stream",
     "text": [
      "Sur les 500 spams de l'ensemble de test,\n",
      "- on en classe 16 comme ham\n",
      "- on en classe 484 comme spam.\n"
     ]
    }
   ],
   "source": [
    "filenames = TestSet[:Spam]\n",
    "vraisPositifs = [emailfiltering(filenames[i],discr_words[1:10],wordBag) for i=1:length(filenames)]\n",
    "println(\"Sur les $(length(filenames)) spams de l'ensemble de test,\")\n",
    "println(\"- on en classe $(count(.!vraisPositifs)) comme ham\")\n",
    "println(\"- on en classe $(count(vraisPositifs)) comme spam.\")"
   ]
  },
  {
   "cell_type": "markdown",
   "metadata": {},
   "source": [
    "## c) En prenant les 100 mots les plus discriminant, quelle est la proportion de courriels de l'ensemble de test qui sont classés comme pourriels ?"
   ]
  },
  {
   "cell_type": "code",
   "execution_count": 20,
   "metadata": {},
   "outputs": [
    {
     "name": "stdout",
     "output_type": "stream",
     "text": [
      "Sur les 1224 hams de l'ensemble de test,\n",
      "- on en classe 1078 comme ham\n",
      "- on en classe 146 comme spam.\n"
     ]
    }
   ],
   "source": [
    "filenames = TestSet[:Ham]\n",
    "fauxPositifs = [emailfiltering(filenames[i],discr_words[1:100],wordBag) for i=1:length(filenames)]\n",
    "println(\"Sur les $(length(filenames)) hams de l'ensemble de test,\")\n",
    "println(\"- on en classe $(count(.!fauxPositifs)) comme ham\")\n",
    "println(\"- on en classe $(count(fauxPositifs)) comme spam.\")"
   ]
  },
  {
   "cell_type": "markdown",
   "metadata": {},
   "source": [
    "## d) En prenant les 100 mots les plus discriminant, quelle est la proportion de pourriels de l'ensemble de test qui sont classés comme pourriels ?"
   ]
  },
  {
   "cell_type": "code",
   "execution_count": 21,
   "metadata": {},
   "outputs": [
    {
     "name": "stdout",
     "output_type": "stream",
     "text": [
      "Sur les 500 spams de l'ensemble de test,\n",
      "- on en classe 3 comme ham\n",
      "- on en classe 497 comme spam.\n"
     ]
    }
   ],
   "source": [
    "filenames = TestSet[:Spam]\n",
    "vraisPositifs = [emailfiltering(filenames[i],discr_words[1:100],wordBag) for i=1:length(filenames)]\n",
    "println(\"Sur les $(length(filenames)) spams de l'ensemble de test,\")\n",
    "println(\"- on en classe $(count(.!vraisPositifs)) comme ham\")\n",
    "println(\"- on en classe $(count(vraisPositifs)) comme spam.\")"
   ]
  },
  {
   "cell_type": "markdown",
   "metadata": {},
   "source": [
    "## e) Quel serait le nombre idéal de mots discriminant qu'il faudrait prendre ?\n",
    "\n",
    "Il n'y a pas une seule réponse possible. Ça dépend si on veut limiter le nombre de faux positifs ou le nombre de faux négatifs."
   ]
  },
  {
   "cell_type": "code",
   "execution_count": null,
   "metadata": {},
   "outputs": [],
   "source": []
  }
 ],
 "metadata": {
  "kernelspec": {
   "display_name": "Julia 1.2.0",
   "language": "julia",
   "name": "julia-1.2"
  },
  "language_info": {
   "file_extension": ".jl",
   "mimetype": "application/julia",
   "name": "julia",
   "version": "1.2.0"
  }
 },
 "nbformat": 4,
 "nbformat_minor": 2
}
